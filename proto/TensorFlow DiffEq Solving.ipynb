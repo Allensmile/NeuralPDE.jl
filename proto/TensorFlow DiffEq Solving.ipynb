{
 "cells": [
  {
   "cell_type": "code",
   "execution_count": null,
   "metadata": {
    "collapsed": false
   },
   "outputs": [],
   "source": [
    "using Plots\n",
    "gr()\n",
    "\n",
    "using TensorFlow"
   ]
  },
  {
   "cell_type": "markdown",
   "metadata": {},
   "source": [
    "## Problem 2 from https://arxiv.org/pdf/physics/9705023.pdf\n",
    "\n",
    "\n",
    "$$\\dfrac{du}{dt}+\\dfrac{1}{5}u=e^{-\\frac{t}{5}}cos(t)$$\n",
    " \n",
    "\n",
    "With $u(0)=0$\n",
    "  and $t\\in[0,2]$\n",
    " \n",
    "\n",
    "Analytic solution is $$u_{ana}(t)=e^{-\\frac{t}{5}}sin(t)$$\n",
    " \n",
    "\n",
    "Trail solution is $$u_{trial}(t)=tN(t,\\tilde{p})$$\n",
    " "
   ]
  },
  {
   "cell_type": "code",
   "execution_count": null,
   "metadata": {
    "collapsed": false
   },
   "outputs": [],
   "source": [
    "\n",
    "sess=Session(Graph())\n",
    "hl_width=64\n",
    "a=10\n",
    "@tf begin #Automatically name nodes based on RHS\n",
    "    t = placeholder(Float32; shape=[-1])\n",
    "    tt = expand_dims(t, 2) #make it a matrix\n",
    "    \n",
    "    w1 = get_variable([1,hl_width], Float32)\n",
    "    b1 = get_variable([hl_width], Float32)\n",
    "    w2 = get_variable([hl_width,1], Float32)\n",
    "    \n",
    "    #$u_{trial} = t*N(t, p̃). p̃={w1, b1, w2}\n",
    "    net1 = nn.sigmoid(tt*w1 + b1)*w2\n",
    "    u = tt.*net1\n",
    "    \n",
    "    \n",
    "    du_dt = gradients(u, tt)\n",
    "    deq_lhs = du_dt + u/5\n",
    "    deq_rhs = exp(-tt/5).*cos(tt)\n",
    "        \n",
    "    \n",
    "    loss = reduce_sum((deq_lhs - deq_rhs).^2)\n",
    "    opt = train.minimize(train.AdamOptimizer(), loss)\n",
    "end\n"
   ]
  },
  {
   "cell_type": "code",
   "execution_count": null,
   "metadata": {
    "collapsed": false
   },
   "outputs": [],
   "source": [
    "t_obs = collect(0.0:0.02:2.0)\n",
    "\n",
    "run(sess, global_variables_initializer())\n",
    "for ii in 1:1000\n",
    "    _, loss_o = run(sess, [opt, loss], Dict(t=>t_obs))\n",
    "    if ii%50 == 1\n",
    "        println(loss_o)\n",
    "    end\n",
    "end"
   ]
  },
  {
   "cell_type": "code",
   "execution_count": null,
   "metadata": {
    "collapsed": false
   },
   "outputs": [],
   "source": [
    "u_net = run(sess, u, Dict(t=>t_obs))\n",
    "u_ana = exp(-t_obs/5).*sin(t_obs)\n",
    "\n",
    "\n",
    "plot(t_obs, [u_net u_ana]; label=[\"u_net\", \"u_ana\"])\n"
   ]
  },
  {
   "cell_type": "code",
   "execution_count": null,
   "metadata": {
    "collapsed": true
   },
   "outputs": [],
   "source": []
  }
 ],
 "metadata": {
  "kernelspec": {
   "display_name": "Julia 0.5.1",
   "language": "julia",
   "name": "julia-0.5"
  },
  "language_info": {
   "file_extension": ".jl",
   "mimetype": "application/julia",
   "name": "julia",
   "version": "0.5.1"
  }
 },
 "nbformat": 4,
 "nbformat_minor": 0
}
